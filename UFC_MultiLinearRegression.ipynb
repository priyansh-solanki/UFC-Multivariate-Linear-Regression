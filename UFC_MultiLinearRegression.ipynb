{
 "cells": [
  {
   "cell_type": "code",
   "execution_count": null,
   "id": "00ebe4ef",
   "metadata": {},
   "outputs": [],
   "source": [
    "# Scenario: A UFC tournament in which 16 fighters compete. 4 rounds: Qualifiers, Quarter-finals, Semi-finals, finals.\n",
    "# The dataset has information about every fighter and every fight that took place. It also includes the winners\n",
    "# The task is to perform a descriptive statistical analysis on the data to gain insights and to find the perfect\n",
    "# independent variables to train a Multi Linear Regression model\n",
    "# Also, create a Multi Linear Regression Model from scratch using NUMPY"
   ]
  },
  {
   "cell_type": "code",
   "execution_count": null,
   "id": "f1284c26",
   "metadata": {},
   "outputs": [],
   "source": [
    "# The Multi Linear Regression model is built using gradient descent optimization algorithm\n",
    "# The gradient descent algorithm finds the best values of coefficients and intercept by performing iterative \n",
    "# calculations. It finds the best fit line to minimize the error."
   ]
  },
  {
   "cell_type": "markdown",
   "id": "ab1b8fb5",
   "metadata": {},
   "source": [
    "## Required Libraries"
   ]
  },
  {
   "cell_type": "code",
   "execution_count": 1,
   "id": "0efcd538",
   "metadata": {},
   "outputs": [],
   "source": [
    "import pandas as pd\n",
    "import numpy as np\n",
    "import matplotlib.pyplot as plt\n",
    "import seaborn as sns\n",
    "from sklearn.preprocessing import LabelEncoder\n",
    "from sklearn.model_selection import train_test_split\n",
    "from sklearn.linear_model import LinearRegression\n",
    "from sklearn.metrics import r2_score\n",
    "from sklearn.metrics import mean_squared_error\n",
    "import warnings\n",
    "warnings.filterwarnings('ignore')"
   ]
  },
  {
   "cell_type": "markdown",
   "id": "f7cef631",
   "metadata": {},
   "source": [
    "## Data Collection and Data Insights"
   ]
  },
  {
   "cell_type": "code",
   "execution_count": 110,
   "id": "11eb6aae",
   "metadata": {},
   "outputs": [
    {
     "data": {
      "text/html": [
       "<div>\n",
       "<style scoped>\n",
       "    .dataframe tbody tr th:only-of-type {\n",
       "        vertical-align: middle;\n",
       "    }\n",
       "\n",
       "    .dataframe tbody tr th {\n",
       "        vertical-align: top;\n",
       "    }\n",
       "\n",
       "    .dataframe thead th {\n",
       "        text-align: right;\n",
       "    }\n",
       "</style>\n",
       "<table border=\"1\" class=\"dataframe\">\n",
       "  <thead>\n",
       "    <tr style=\"text-align: right;\">\n",
       "      <th></th>\n",
       "      <th>B_fighter</th>\n",
       "      <th>R_fighter</th>\n",
       "      <th>B_nickname</th>\n",
       "      <th>R_nickname</th>\n",
       "      <th>bout</th>\n",
       "      <th>B_height_cms</th>\n",
       "      <th>B_reach_cms</th>\n",
       "      <th>B_weight_kgs</th>\n",
       "      <th>B_stance</th>\n",
       "      <th>B_total_fights</th>\n",
       "      <th>...</th>\n",
       "      <th>R_strikes_landed_head</th>\n",
       "      <th>R_strikes_landed_body</th>\n",
       "      <th>R_strikes_landed_leg</th>\n",
       "      <th>R_avg_KDS</th>\n",
       "      <th>R_win_by_KO</th>\n",
       "      <th>R_win_by_submission</th>\n",
       "      <th>R_win_by_decision</th>\n",
       "      <th>B_win_percentage</th>\n",
       "      <th>R_win_percentage</th>\n",
       "      <th>winner</th>\n",
       "    </tr>\n",
       "  </thead>\n",
       "  <tbody>\n",
       "    <tr>\n",
       "      <th>0</th>\n",
       "      <td>CONOR MCGREGOR</td>\n",
       "      <td>MICHAEL BISPING</td>\n",
       "      <td>THE NOTORIOUS</td>\n",
       "      <td>THE ASSASSIN</td>\n",
       "      <td>QUALIFIERS</td>\n",
       "      <td>172.72</td>\n",
       "      <td>180.34</td>\n",
       "      <td>67</td>\n",
       "      <td>ORTHODOX</td>\n",
       "      <td>21</td>\n",
       "      <td>...</td>\n",
       "      <td>3</td>\n",
       "      <td>27</td>\n",
       "      <td>10</td>\n",
       "      <td>0.50</td>\n",
       "      <td>0</td>\n",
       "      <td>0</td>\n",
       "      <td>0</td>\n",
       "      <td>74</td>\n",
       "      <td>26</td>\n",
       "      <td>BLUE</td>\n",
       "    </tr>\n",
       "    <tr>\n",
       "      <th>1</th>\n",
       "      <td>GEORGE PIERRE</td>\n",
       "      <td>ANDERSON SILVA</td>\n",
       "      <td>THE HAMMER</td>\n",
       "      <td>THE TANK</td>\n",
       "      <td>QUALIFIERS</td>\n",
       "      <td>177.80</td>\n",
       "      <td>182.88</td>\n",
       "      <td>69</td>\n",
       "      <td>SOUTHPAW</td>\n",
       "      <td>15</td>\n",
       "      <td>...</td>\n",
       "      <td>10</td>\n",
       "      <td>44</td>\n",
       "      <td>12</td>\n",
       "      <td>1.80</td>\n",
       "      <td>1</td>\n",
       "      <td>0</td>\n",
       "      <td>0</td>\n",
       "      <td>42</td>\n",
       "      <td>58</td>\n",
       "      <td>RED</td>\n",
       "    </tr>\n",
       "    <tr>\n",
       "      <th>2</th>\n",
       "      <td>MARK HUNT</td>\n",
       "      <td>DONALD CERRONE</td>\n",
       "      <td>THE PRINCE</td>\n",
       "      <td>THE OUTLAW</td>\n",
       "      <td>QUALIFIERS</td>\n",
       "      <td>170.18</td>\n",
       "      <td>177.80</td>\n",
       "      <td>66</td>\n",
       "      <td>ORTHODOX</td>\n",
       "      <td>17</td>\n",
       "      <td>...</td>\n",
       "      <td>14</td>\n",
       "      <td>50</td>\n",
       "      <td>6</td>\n",
       "      <td>2.31</td>\n",
       "      <td>1</td>\n",
       "      <td>0</td>\n",
       "      <td>0</td>\n",
       "      <td>40</td>\n",
       "      <td>60</td>\n",
       "      <td>RED</td>\n",
       "    </tr>\n",
       "    <tr>\n",
       "      <th>3</th>\n",
       "      <td>ALISTAIR OVEREEM</td>\n",
       "      <td>DANIEL CORMIER</td>\n",
       "      <td>THE SLAYER</td>\n",
       "      <td>THE KNIGHT</td>\n",
       "      <td>QUALIFIERS</td>\n",
       "      <td>170.18</td>\n",
       "      <td>172.72</td>\n",
       "      <td>66</td>\n",
       "      <td>ORTHODOX</td>\n",
       "      <td>20</td>\n",
       "      <td>...</td>\n",
       "      <td>5</td>\n",
       "      <td>31</td>\n",
       "      <td>17</td>\n",
       "      <td>1.33</td>\n",
       "      <td>0</td>\n",
       "      <td>0</td>\n",
       "      <td>0</td>\n",
       "      <td>65</td>\n",
       "      <td>35</td>\n",
       "      <td>BLUE</td>\n",
       "    </tr>\n",
       "    <tr>\n",
       "      <th>4</th>\n",
       "      <td>VITOR BELFORT</td>\n",
       "      <td>BROCK LESNAR</td>\n",
       "      <td>THE MENANCE</td>\n",
       "      <td>THE TIGER</td>\n",
       "      <td>QUALIFIERS</td>\n",
       "      <td>172.72</td>\n",
       "      <td>182.88</td>\n",
       "      <td>67</td>\n",
       "      <td>SWITCH</td>\n",
       "      <td>14</td>\n",
       "      <td>...</td>\n",
       "      <td>7</td>\n",
       "      <td>34</td>\n",
       "      <td>8</td>\n",
       "      <td>3.30</td>\n",
       "      <td>0</td>\n",
       "      <td>0</td>\n",
       "      <td>1</td>\n",
       "      <td>30</td>\n",
       "      <td>70</td>\n",
       "      <td>RED</td>\n",
       "    </tr>\n",
       "  </tbody>\n",
       "</table>\n",
       "<p>5 rows × 46 columns</p>\n",
       "</div>"
      ],
      "text/plain": [
       "          B_fighter        R_fighter     B_nickname    R_nickname        bout  \\\n",
       "0    CONOR MCGREGOR  MICHAEL BISPING  THE NOTORIOUS  THE ASSASSIN  QUALIFIERS   \n",
       "1     GEORGE PIERRE   ANDERSON SILVA     THE HAMMER      THE TANK  QUALIFIERS   \n",
       "2         MARK HUNT   DONALD CERRONE     THE PRINCE    THE OUTLAW  QUALIFIERS   \n",
       "3  ALISTAIR OVEREEM   DANIEL CORMIER     THE SLAYER    THE KNIGHT  QUALIFIERS   \n",
       "4     VITOR BELFORT     BROCK LESNAR    THE MENANCE     THE TIGER  QUALIFIERS   \n",
       "\n",
       "   B_height_cms  B_reach_cms  B_weight_kgs  B_stance  B_total_fights  ...  \\\n",
       "0        172.72       180.34            67  ORTHODOX              21  ...   \n",
       "1        177.80       182.88            69  SOUTHPAW              15  ...   \n",
       "2        170.18       177.80            66  ORTHODOX              17  ...   \n",
       "3        170.18       172.72            66  ORTHODOX              20  ...   \n",
       "4        172.72       182.88            67    SWITCH              14  ...   \n",
       "\n",
       "   R_strikes_landed_head  R_strikes_landed_body  R_strikes_landed_leg  \\\n",
       "0                      3                     27                    10   \n",
       "1                     10                     44                    12   \n",
       "2                     14                     50                     6   \n",
       "3                      5                     31                    17   \n",
       "4                      7                     34                     8   \n",
       "\n",
       "   R_avg_KDS R_win_by_KO  R_win_by_submission  R_win_by_decision  \\\n",
       "0       0.50           0                    0                  0   \n",
       "1       1.80           1                    0                  0   \n",
       "2       2.31           1                    0                  0   \n",
       "3       1.33           0                    0                  0   \n",
       "4       3.30           0                    0                  1   \n",
       "\n",
       "   B_win_percentage  R_win_percentage  winner  \n",
       "0                74                26    BLUE  \n",
       "1                42                58     RED  \n",
       "2                40                60     RED  \n",
       "3                65                35    BLUE  \n",
       "4                30                70     RED  \n",
       "\n",
       "[5 rows x 46 columns]"
      ]
     },
     "execution_count": 110,
     "metadata": {},
     "output_type": "execute_result"
    }
   ],
   "source": [
    "ufc_data = pd.read_csv('custom_ufc_data.csv')\n",
    "ufc_data.head()"
   ]
  },
  {
   "cell_type": "code",
   "execution_count": 111,
   "id": "4a61c0dc",
   "metadata": {},
   "outputs": [
    {
     "data": {
      "text/plain": [
       "(15, 46)"
      ]
     },
     "execution_count": 111,
     "metadata": {},
     "output_type": "execute_result"
    }
   ],
   "source": [
    "ufc_data.shape"
   ]
  },
  {
   "cell_type": "code",
   "execution_count": 4,
   "id": "4d3dd9fb",
   "metadata": {},
   "outputs": [
    {
     "data": {
      "text/plain": [
       "B_fighter                 object\n",
       "R_fighter                 object\n",
       "B_nickname                object\n",
       "R_nickname                object\n",
       "bout                      object\n",
       "B_height_cms             float64\n",
       "B_reach_cms              float64\n",
       "B_weight_kgs               int64\n",
       "B_stance                  object\n",
       "B_total_fights             int64\n",
       "B_wins                     int64\n",
       "B_losses                   int64\n",
       "B_draws                    int64\n",
       "B_current_win_streak       int64\n",
       "B_current_form            object\n",
       "B_strikes_attempted        int64\n",
       "B_strikes_landed           int64\n",
       "B_strikes_landed_head      int64\n",
       "B_strikes_landed_body      int64\n",
       "B_strikes_landed_leg       int64\n",
       "B_avg_KDS                float64\n",
       "B_win_by_KO                int64\n",
       "B_win_by_submission        int64\n",
       "B_win_by_decision          int64\n",
       "R_height_cms             float64\n",
       "R_reach_cms              float64\n",
       "R_weight_kgs               int64\n",
       "R_stance                  object\n",
       "R_total_fights             int64\n",
       "R_wins                     int64\n",
       "R_losses                   int64\n",
       "R_draws                    int64\n",
       "R_current_win_streak       int64\n",
       "R_current_form            object\n",
       "R_strikes_attempted        int64\n",
       "R_strikes_landed           int64\n",
       "R_strikes_landed_head      int64\n",
       "R_strikes_landed_body      int64\n",
       "R_strikes_landed_leg       int64\n",
       "R_avg_KDS                float64\n",
       "R_win_by_KO                int64\n",
       "R_win_by_submission        int64\n",
       "R_win_by_decision          int64\n",
       "B_win_percentage           int64\n",
       "R_win_percentage           int64\n",
       "winner                    object\n",
       "dtype: object"
      ]
     },
     "execution_count": 4,
     "metadata": {},
     "output_type": "execute_result"
    }
   ],
   "source": [
    "ufc_data.dtypes"
   ]
  },
  {
   "cell_type": "code",
   "execution_count": 5,
   "id": "6b49b3b3",
   "metadata": {},
   "outputs": [
    {
     "data": {
      "text/plain": [
       "Index(['B_fighter', 'R_fighter', 'B_nickname', 'R_nickname', 'bout',\n",
       "       'B_height_cms', 'B_reach_cms', 'B_weight_kgs', 'B_stance',\n",
       "       'B_total_fights', 'B_wins', 'B_losses', 'B_draws',\n",
       "       'B_current_win_streak', 'B_current_form', 'B_strikes_attempted',\n",
       "       'B_strikes_landed', 'B_strikes_landed_head', 'B_strikes_landed_body',\n",
       "       'B_strikes_landed_leg', 'B_avg_KDS', 'B_win_by_KO',\n",
       "       'B_win_by_submission', 'B_win_by_decision', 'R_height_cms',\n",
       "       'R_reach_cms', 'R_weight_kgs', 'R_stance', 'R_total_fights', 'R_wins',\n",
       "       'R_losses', 'R_draws', 'R_current_win_streak', 'R_current_form',\n",
       "       'R_strikes_attempted', 'R_strikes_landed', 'R_strikes_landed_head',\n",
       "       'R_strikes_landed_body', 'R_strikes_landed_leg', 'R_avg_KDS',\n",
       "       'R_win_by_KO', 'R_win_by_submission', 'R_win_by_decision',\n",
       "       'B_win_percentage', 'R_win_percentage', 'winner'],\n",
       "      dtype='object')"
      ]
     },
     "execution_count": 5,
     "metadata": {},
     "output_type": "execute_result"
    }
   ],
   "source": [
    "ufc_data.columns"
   ]
  },
  {
   "cell_type": "code",
   "execution_count": 6,
   "id": "9c98c430",
   "metadata": {},
   "outputs": [
    {
     "name": "stdout",
     "output_type": "stream",
     "text": [
      "<class 'pandas.core.frame.DataFrame'>\n",
      "RangeIndex: 15 entries, 0 to 14\n",
      "Data columns (total 46 columns):\n",
      " #   Column                 Non-Null Count  Dtype  \n",
      "---  ------                 --------------  -----  \n",
      " 0   B_fighter              15 non-null     object \n",
      " 1   R_fighter              15 non-null     object \n",
      " 2   B_nickname             15 non-null     object \n",
      " 3   R_nickname             15 non-null     object \n",
      " 4   bout                   15 non-null     object \n",
      " 5   B_height_cms           15 non-null     float64\n",
      " 6   B_reach_cms            15 non-null     float64\n",
      " 7   B_weight_kgs           15 non-null     int64  \n",
      " 8   B_stance               15 non-null     object \n",
      " 9   B_total_fights         15 non-null     int64  \n",
      " 10  B_wins                 15 non-null     int64  \n",
      " 11  B_losses               15 non-null     int64  \n",
      " 12  B_draws                15 non-null     int64  \n",
      " 13  B_current_win_streak   15 non-null     int64  \n",
      " 14  B_current_form         15 non-null     object \n",
      " 15  B_strikes_attempted    15 non-null     int64  \n",
      " 16  B_strikes_landed       15 non-null     int64  \n",
      " 17  B_strikes_landed_head  15 non-null     int64  \n",
      " 18  B_strikes_landed_body  15 non-null     int64  \n",
      " 19  B_strikes_landed_leg   15 non-null     int64  \n",
      " 20  B_avg_KDS              15 non-null     float64\n",
      " 21  B_win_by_KO            15 non-null     int64  \n",
      " 22  B_win_by_submission    15 non-null     int64  \n",
      " 23  B_win_by_decision      15 non-null     int64  \n",
      " 24  R_height_cms           15 non-null     float64\n",
      " 25  R_reach_cms            15 non-null     float64\n",
      " 26  R_weight_kgs           15 non-null     int64  \n",
      " 27  R_stance               15 non-null     object \n",
      " 28  R_total_fights         15 non-null     int64  \n",
      " 29  R_wins                 15 non-null     int64  \n",
      " 30  R_losses               15 non-null     int64  \n",
      " 31  R_draws                15 non-null     int64  \n",
      " 32  R_current_win_streak   15 non-null     int64  \n",
      " 33  R_current_form         15 non-null     object \n",
      " 34  R_strikes_attempted    15 non-null     int64  \n",
      " 35  R_strikes_landed       15 non-null     int64  \n",
      " 36  R_strikes_landed_head  15 non-null     int64  \n",
      " 37  R_strikes_landed_body  15 non-null     int64  \n",
      " 38  R_strikes_landed_leg   15 non-null     int64  \n",
      " 39  R_avg_KDS              15 non-null     float64\n",
      " 40  R_win_by_KO            15 non-null     int64  \n",
      " 41  R_win_by_submission    15 non-null     int64  \n",
      " 42  R_win_by_decision      15 non-null     int64  \n",
      " 43  B_win_percentage       15 non-null     int64  \n",
      " 44  R_win_percentage       15 non-null     int64  \n",
      " 45  winner                 15 non-null     object \n",
      "dtypes: float64(6), int64(30), object(10)\n",
      "memory usage: 5.5+ KB\n"
     ]
    }
   ],
   "source": [
    "ufc_data.info()"
   ]
  },
  {
   "cell_type": "markdown",
   "id": "4eb14f92",
   "metadata": {},
   "source": [
    "## Data Pre-Processing"
   ]
  },
  {
   "cell_type": "code",
   "execution_count": 7,
   "id": "ab016e40",
   "metadata": {},
   "outputs": [
    {
     "data": {
      "text/plain": [
       "B_fighter                0\n",
       "R_fighter                0\n",
       "B_nickname               0\n",
       "R_nickname               0\n",
       "bout                     0\n",
       "B_height_cms             0\n",
       "B_reach_cms              0\n",
       "B_weight_kgs             0\n",
       "B_stance                 0\n",
       "B_total_fights           0\n",
       "B_wins                   0\n",
       "B_losses                 0\n",
       "B_draws                  0\n",
       "B_current_win_streak     0\n",
       "B_current_form           0\n",
       "B_strikes_attempted      0\n",
       "B_strikes_landed         0\n",
       "B_strikes_landed_head    0\n",
       "B_strikes_landed_body    0\n",
       "B_strikes_landed_leg     0\n",
       "B_avg_KDS                0\n",
       "B_win_by_KO              0\n",
       "B_win_by_submission      0\n",
       "B_win_by_decision        0\n",
       "R_height_cms             0\n",
       "R_reach_cms              0\n",
       "R_weight_kgs             0\n",
       "R_stance                 0\n",
       "R_total_fights           0\n",
       "R_wins                   0\n",
       "R_losses                 0\n",
       "R_draws                  0\n",
       "R_current_win_streak     0\n",
       "R_current_form           0\n",
       "R_strikes_attempted      0\n",
       "R_strikes_landed         0\n",
       "R_strikes_landed_head    0\n",
       "R_strikes_landed_body    0\n",
       "R_strikes_landed_leg     0\n",
       "R_avg_KDS                0\n",
       "R_win_by_KO              0\n",
       "R_win_by_submission      0\n",
       "R_win_by_decision        0\n",
       "B_win_percentage         0\n",
       "R_win_percentage         0\n",
       "winner                   0\n",
       "dtype: int64"
      ]
     },
     "execution_count": 7,
     "metadata": {},
     "output_type": "execute_result"
    }
   ],
   "source": [
    "ufc_data.isna().sum()"
   ]
  },
  {
   "cell_type": "code",
   "execution_count": 112,
   "id": "8a286399",
   "metadata": {},
   "outputs": [],
   "source": [
    "label_encoder = LabelEncoder()\n",
    "cols = ['B_stance','B_current_form','R_stance','R_current_form','winner']\n",
    "for col in cols:\n",
    "    ufc_data[col] = label_encoder.fit_transform(ufc_data[col])"
   ]
  },
  {
   "cell_type": "code",
   "execution_count": 9,
   "id": "f1fa7393",
   "metadata": {
    "scrolled": true
   },
   "outputs": [
    {
     "data": {
      "text/html": [
       "<div>\n",
       "<style scoped>\n",
       "    .dataframe tbody tr th:only-of-type {\n",
       "        vertical-align: middle;\n",
       "    }\n",
       "\n",
       "    .dataframe tbody tr th {\n",
       "        vertical-align: top;\n",
       "    }\n",
       "\n",
       "    .dataframe thead th {\n",
       "        text-align: right;\n",
       "    }\n",
       "</style>\n",
       "<table border=\"1\" class=\"dataframe\">\n",
       "  <thead>\n",
       "    <tr style=\"text-align: right;\">\n",
       "      <th></th>\n",
       "      <th>B_fighter</th>\n",
       "      <th>R_fighter</th>\n",
       "      <th>B_nickname</th>\n",
       "      <th>R_nickname</th>\n",
       "      <th>bout</th>\n",
       "      <th>B_height_cms</th>\n",
       "      <th>B_reach_cms</th>\n",
       "      <th>B_weight_kgs</th>\n",
       "      <th>B_stance</th>\n",
       "      <th>B_total_fights</th>\n",
       "      <th>...</th>\n",
       "      <th>R_strikes_landed_head</th>\n",
       "      <th>R_strikes_landed_body</th>\n",
       "      <th>R_strikes_landed_leg</th>\n",
       "      <th>R_avg_KDS</th>\n",
       "      <th>R_win_by_KO</th>\n",
       "      <th>R_win_by_submission</th>\n",
       "      <th>R_win_by_decision</th>\n",
       "      <th>B_win_percentage</th>\n",
       "      <th>R_win_percentage</th>\n",
       "      <th>winner</th>\n",
       "    </tr>\n",
       "  </thead>\n",
       "  <tbody>\n",
       "    <tr>\n",
       "      <th>0</th>\n",
       "      <td>CONOR MCGREGOR</td>\n",
       "      <td>MICHAEL BISPING</td>\n",
       "      <td>THE NOTORIOUS</td>\n",
       "      <td>THE ASSASSIN</td>\n",
       "      <td>QUALIFIERS</td>\n",
       "      <td>172.72</td>\n",
       "      <td>180.34</td>\n",
       "      <td>67</td>\n",
       "      <td>0</td>\n",
       "      <td>21</td>\n",
       "      <td>...</td>\n",
       "      <td>3</td>\n",
       "      <td>27</td>\n",
       "      <td>10</td>\n",
       "      <td>0.50</td>\n",
       "      <td>0</td>\n",
       "      <td>0</td>\n",
       "      <td>0</td>\n",
       "      <td>74</td>\n",
       "      <td>26</td>\n",
       "      <td>0</td>\n",
       "    </tr>\n",
       "    <tr>\n",
       "      <th>1</th>\n",
       "      <td>GEORGE PIERRE</td>\n",
       "      <td>ANDERSON SILVA</td>\n",
       "      <td>THE HAMMER</td>\n",
       "      <td>THE TANK</td>\n",
       "      <td>QUALIFIERS</td>\n",
       "      <td>177.80</td>\n",
       "      <td>182.88</td>\n",
       "      <td>69</td>\n",
       "      <td>1</td>\n",
       "      <td>15</td>\n",
       "      <td>...</td>\n",
       "      <td>10</td>\n",
       "      <td>44</td>\n",
       "      <td>12</td>\n",
       "      <td>1.80</td>\n",
       "      <td>1</td>\n",
       "      <td>0</td>\n",
       "      <td>0</td>\n",
       "      <td>42</td>\n",
       "      <td>58</td>\n",
       "      <td>1</td>\n",
       "    </tr>\n",
       "    <tr>\n",
       "      <th>2</th>\n",
       "      <td>MARK HUNT</td>\n",
       "      <td>DONALD CERRONE</td>\n",
       "      <td>THE PRINCE</td>\n",
       "      <td>THE OUTLAW</td>\n",
       "      <td>QUALIFIERS</td>\n",
       "      <td>170.18</td>\n",
       "      <td>177.80</td>\n",
       "      <td>66</td>\n",
       "      <td>0</td>\n",
       "      <td>17</td>\n",
       "      <td>...</td>\n",
       "      <td>14</td>\n",
       "      <td>50</td>\n",
       "      <td>6</td>\n",
       "      <td>2.31</td>\n",
       "      <td>1</td>\n",
       "      <td>0</td>\n",
       "      <td>0</td>\n",
       "      <td>40</td>\n",
       "      <td>60</td>\n",
       "      <td>1</td>\n",
       "    </tr>\n",
       "    <tr>\n",
       "      <th>3</th>\n",
       "      <td>ALISTAIR OVEREEM</td>\n",
       "      <td>DANIEL CORMIER</td>\n",
       "      <td>THE SLAYER</td>\n",
       "      <td>THE KNIGHT</td>\n",
       "      <td>QUALIFIERS</td>\n",
       "      <td>170.18</td>\n",
       "      <td>172.72</td>\n",
       "      <td>66</td>\n",
       "      <td>0</td>\n",
       "      <td>20</td>\n",
       "      <td>...</td>\n",
       "      <td>5</td>\n",
       "      <td>31</td>\n",
       "      <td>17</td>\n",
       "      <td>1.33</td>\n",
       "      <td>0</td>\n",
       "      <td>0</td>\n",
       "      <td>0</td>\n",
       "      <td>65</td>\n",
       "      <td>35</td>\n",
       "      <td>0</td>\n",
       "    </tr>\n",
       "    <tr>\n",
       "      <th>4</th>\n",
       "      <td>VITOR BELFORT</td>\n",
       "      <td>BROCK LESNAR</td>\n",
       "      <td>THE MENANCE</td>\n",
       "      <td>THE TIGER</td>\n",
       "      <td>QUALIFIERS</td>\n",
       "      <td>172.72</td>\n",
       "      <td>182.88</td>\n",
       "      <td>67</td>\n",
       "      <td>2</td>\n",
       "      <td>14</td>\n",
       "      <td>...</td>\n",
       "      <td>7</td>\n",
       "      <td>34</td>\n",
       "      <td>8</td>\n",
       "      <td>3.30</td>\n",
       "      <td>0</td>\n",
       "      <td>0</td>\n",
       "      <td>1</td>\n",
       "      <td>30</td>\n",
       "      <td>70</td>\n",
       "      <td>1</td>\n",
       "    </tr>\n",
       "  </tbody>\n",
       "</table>\n",
       "<p>5 rows × 46 columns</p>\n",
       "</div>"
      ],
      "text/plain": [
       "          B_fighter        R_fighter     B_nickname    R_nickname        bout  \\\n",
       "0    CONOR MCGREGOR  MICHAEL BISPING  THE NOTORIOUS  THE ASSASSIN  QUALIFIERS   \n",
       "1     GEORGE PIERRE   ANDERSON SILVA     THE HAMMER      THE TANK  QUALIFIERS   \n",
       "2         MARK HUNT   DONALD CERRONE     THE PRINCE    THE OUTLAW  QUALIFIERS   \n",
       "3  ALISTAIR OVEREEM   DANIEL CORMIER     THE SLAYER    THE KNIGHT  QUALIFIERS   \n",
       "4     VITOR BELFORT     BROCK LESNAR    THE MENANCE     THE TIGER  QUALIFIERS   \n",
       "\n",
       "   B_height_cms  B_reach_cms  B_weight_kgs  B_stance  B_total_fights  ...  \\\n",
       "0        172.72       180.34            67         0              21  ...   \n",
       "1        177.80       182.88            69         1              15  ...   \n",
       "2        170.18       177.80            66         0              17  ...   \n",
       "3        170.18       172.72            66         0              20  ...   \n",
       "4        172.72       182.88            67         2              14  ...   \n",
       "\n",
       "   R_strikes_landed_head  R_strikes_landed_body  R_strikes_landed_leg  \\\n",
       "0                      3                     27                    10   \n",
       "1                     10                     44                    12   \n",
       "2                     14                     50                     6   \n",
       "3                      5                     31                    17   \n",
       "4                      7                     34                     8   \n",
       "\n",
       "   R_avg_KDS  R_win_by_KO  R_win_by_submission  R_win_by_decision  \\\n",
       "0       0.50            0                    0                  0   \n",
       "1       1.80            1                    0                  0   \n",
       "2       2.31            1                    0                  0   \n",
       "3       1.33            0                    0                  0   \n",
       "4       3.30            0                    0                  1   \n",
       "\n",
       "   B_win_percentage  R_win_percentage  winner  \n",
       "0                74                26       0  \n",
       "1                42                58       1  \n",
       "2                40                60       1  \n",
       "3                65                35       0  \n",
       "4                30                70       1  \n",
       "\n",
       "[5 rows x 46 columns]"
      ]
     },
     "execution_count": 9,
     "metadata": {},
     "output_type": "execute_result"
    }
   ],
   "source": [
    "ufc_data.head()"
   ]
  },
  {
   "cell_type": "markdown",
   "id": "24d27573",
   "metadata": {},
   "source": [
    "## Descriptive Data Analysis and Defining Independent Variables (NO.8)"
   ]
  },
  {
   "cell_type": "markdown",
   "id": "1e2bc9b5",
   "metadata": {},
   "source": [
    "## 1. What was the highest 'win_by' method? What is its percentage?"
   ]
  },
  {
   "cell_type": "code",
   "execution_count": 10,
   "id": "5ae1d02e",
   "metadata": {},
   "outputs": [],
   "source": [
    "def count_winby_method(B_col,R_col):\n",
    "    B_count, R_count = 0,0\n",
    "    for i in B_col:\n",
    "        if i==1:\n",
    "            B_count += 1\n",
    "    for i in R_col:\n",
    "        if i==1:\n",
    "            R_count += 1\n",
    "    total_count = B_count + R_count\n",
    "    return total_count"
   ]
  },
  {
   "cell_type": "code",
   "execution_count": 11,
   "id": "db21fadb",
   "metadata": {},
   "outputs": [
    {
     "name": "stdout",
     "output_type": "stream",
     "text": [
      "Total KO:  11 \tTotal Submission:  2 \tTotal Decision:  2\n"
     ]
    }
   ],
   "source": [
    "total_KO_count = count_winby_method(ufc_data['B_win_by_KO'],ufc_data['R_win_by_KO'])\n",
    "total_submission_count = count_winby_method(ufc_data['B_win_by_submission'],ufc_data['R_win_by_submission'])\n",
    "total_decision_count = count_winby_method(ufc_data['B_win_by_decision'], ufc_data['R_win_by_decision'])\n",
    "print(\"Total KO: \", total_KO_count, \"\\tTotal Submission: \",total_submission_count, \"\\tTotal Decision: \", total_decision_count)"
   ]
  },
  {
   "cell_type": "code",
   "execution_count": 12,
   "id": "fdea5e77",
   "metadata": {},
   "outputs": [
    {
     "data": {
      "image/png": "[encoded data removed]",
      "text/plain": [
       "<Figure size 720x576 with 1 Axes>"
      ]
     },
     "metadata": {},
     "output_type": "display_data"
    }
   ],
   "source": [
    "plt.figure(figsize=(10,8))\n",
    "labels = ['KO','Submission','Decision']\n",
    "plt.pie([total_KO_count,total_submission_count,total_decision_count],labels=labels,autopct='%1.1f%%')\n",
    "plt.title('WIN BY METHOD PERCENTAGE RATIO')\n",
    "plt.show()"
   ]
  },
  {
   "cell_type": "markdown",
   "id": "8eb61294",
   "metadata": {},
   "source": [
    "## Ans. Hence, the highest number of victories were by KNOCKOUTS (the opponent falls and does not get up) which is 73.3%."
   ]
  },
  {
   "cell_type": "markdown",
   "id": "883b9951",
   "metadata": {},
   "source": [
    "# "
   ]
  },
  {
   "cell_type": "markdown",
   "id": "68083e49",
   "metadata": {},
   "source": [
    "## 2. Where were the highest number of strikes landed throughout the tournament?"
   ]
  },
  {
   "cell_type": "code",
   "execution_count": 13,
   "id": "8672832a",
   "metadata": {},
   "outputs": [],
   "source": [
    "total_strikes_landed_head = sum(ufc_data['B_strikes_landed_head']) + sum(ufc_data['R_strikes_landed_head'])\n",
    "total_strikes_landed_body = sum(ufc_data['B_strikes_landed_body']) + sum(ufc_data['R_strikes_landed_body'])\n",
    "total_strikes_landed_leg = sum(ufc_data['B_strikes_landed_leg']) + sum(ufc_data['R_strikes_landed_leg'])"
   ]
  },
  {
   "cell_type": "code",
   "execution_count": 14,
   "id": "58028fe6",
   "metadata": {
    "scrolled": false
   },
   "outputs": [
    {
     "name": "stdout",
     "output_type": "stream",
     "text": [
      "HEAD:  315 \tBODY:  985 \tLEG:  479\n"
     ]
    },
    {
     "data": {
      "image/png": "[encoded data removed]",
      "text/plain": [
       "<Figure size 576x432 with 1 Axes>"
      ]
     },
     "metadata": {
      "needs_background": "light"
     },
     "output_type": "display_data"
    }
   ],
   "source": [
    "print('HEAD: ',total_strikes_landed_head,'\\tBODY: ',total_strikes_landed_body,'\\tLEG: ',total_strikes_landed_leg)\n",
    "plt.figure(figsize=(8,6))\n",
    "x = ['TOTAL_HEAD_STRIKES','TOTAL_BODY_STRIKES','TOTAL_LEG_STRIKES']\n",
    "y = [total_strikes_landed_head,total_strikes_landed_body,total_strikes_landed_leg]\n",
    "plt.barh(x,y,height=0.3)\n",
    "plt.show()"
   ]
  },
  {
   "cell_type": "markdown",
   "id": "3ffce0c8",
   "metadata": {},
   "source": [
    "## Ans. The highest number of strikes were landed on body throughout the tournament."
   ]
  },
  {
   "cell_type": "markdown",
   "id": "ee5d8c7c",
   "metadata": {},
   "source": [
    "# "
   ]
  },
  {
   "cell_type": "markdown",
   "id": "b5f008f7",
   "metadata": {},
   "source": [
    "## 3. What is the average ratio of strikes landed and strikes attempted?"
   ]
  },
  {
   "cell_type": "code",
   "execution_count": 15,
   "id": "5cb3bbd4",
   "metadata": {},
   "outputs": [],
   "source": [
    "ufc_data['B_strike_ratio'] = ufc_data['B_strikes_landed']/ufc_data['B_strikes_attempted']\n",
    "ufc_data['R_strike_ratio'] = ufc_data['R_strikes_landed']/ufc_data['R_strikes_attempted']"
   ]
  },
  {
   "cell_type": "code",
   "execution_count": 16,
   "id": "4a7b2dc7",
   "metadata": {},
   "outputs": [
    {
     "data": {
      "text/plain": [
       "60.308401000464954"
      ]
     },
     "execution_count": 16,
     "metadata": {},
     "output_type": "execute_result"
    }
   ],
   "source": [
    "avg_strike_ratio = (ufc_data['B_strike_ratio'].mean() + ufc_data['R_strike_ratio'].mean())/2\n",
    "avg_strike_ratio*100"
   ]
  },
  {
   "cell_type": "code",
   "execution_count": 17,
   "id": "9412ee48",
   "metadata": {},
   "outputs": [],
   "source": [
    "def extract_fighter_data(B_col,R_col):\n",
    "    lst = []\n",
    "    for i in range(0,8):\n",
    "        lst.append(ufc_data[B_col][i])\n",
    "    for i in range(0,8):\n",
    "        lst.append(ufc_data[R_col][i])\n",
    "    return lst"
   ]
  },
  {
   "cell_type": "code",
   "execution_count": 18,
   "id": "7d832dd8",
   "metadata": {},
   "outputs": [],
   "source": [
    "fighters = extract_fighter_data('B_fighter','R_fighter')\n",
    "height_cms = extract_fighter_data('B_height_cms','R_height_cms')\n",
    "reach_cms = extract_fighter_data('B_reach_cms','R_reach_cms')\n",
    "weight_kgs = extract_fighter_data('B_weight_kgs','R_weight_kgs')\n",
    "stance = extract_fighter_data('B_stance','R_stance')\n",
    "current_form = extract_fighter_data('B_current_form','R_current_form')\n",
    "strikes_attempted = extract_fighter_data('B_strikes_attempted','R_strikes_attempted')\n",
    "strikes_landed = extract_fighter_data('B_strikes_landed','R_strikes_landed')\n",
    "strike_ratio = extract_fighter_data('B_strike_ratio','R_strike_ratio')"
   ]
  },
  {
   "cell_type": "code",
   "execution_count": 19,
   "id": "556eb753",
   "metadata": {},
   "outputs": [],
   "source": [
    "data = {'fighters':fighters,'height_cms':height_cms,'reach_cms':reach_cms,'weight_kgs':weight_kgs,'stance':stance,'current_form':current_form,'strikes_attempted':strikes_attempted,'strikes_landed':strikes_landed,'strike_ratio':strike_ratio}\n",
    "fighter_data = pd.DataFrame(data)"
   ]
  },
  {
   "cell_type": "code",
   "execution_count": 20,
   "id": "a28ae649",
   "metadata": {},
   "outputs": [
    {
     "data": {
      "text/html": [
       "<div>\n",
       "<style scoped>\n",
       "    .dataframe tbody tr th:only-of-type {\n",
       "        vertical-align: middle;\n",
       "    }\n",
       "\n",
       "    .dataframe tbody tr th {\n",
       "        vertical-align: top;\n",
       "    }\n",
       "\n",
       "    .dataframe thead th {\n",
       "        text-align: right;\n",
       "    }\n",
       "</style>\n",
       "<table border=\"1\" class=\"dataframe\">\n",
       "  <thead>\n",
       "    <tr style=\"text-align: right;\">\n",
       "      <th></th>\n",
       "      <th>fighters</th>\n",
       "      <th>strike_ratio</th>\n",
       "    </tr>\n",
       "  </thead>\n",
       "  <tbody>\n",
       "    <tr>\n",
       "      <th>0</th>\n",
       "      <td>CONOR MCGREGOR</td>\n",
       "      <td>0.649123</td>\n",
       "    </tr>\n",
       "    <tr>\n",
       "      <th>1</th>\n",
       "      <td>GEORGE PIERRE</td>\n",
       "      <td>0.702381</td>\n",
       "    </tr>\n",
       "    <tr>\n",
       "      <th>2</th>\n",
       "      <td>MARK HUNT</td>\n",
       "      <td>0.698925</td>\n",
       "    </tr>\n",
       "    <tr>\n",
       "      <th>3</th>\n",
       "      <td>ALISTAIR OVEREEM</td>\n",
       "      <td>0.709402</td>\n",
       "    </tr>\n",
       "    <tr>\n",
       "      <th>4</th>\n",
       "      <td>VITOR BELFORT</td>\n",
       "      <td>0.513158</td>\n",
       "    </tr>\n",
       "    <tr>\n",
       "      <th>5</th>\n",
       "      <td>RASHAD EVANS</td>\n",
       "      <td>0.673267</td>\n",
       "    </tr>\n",
       "    <tr>\n",
       "      <th>6</th>\n",
       "      <td>JON JONES</td>\n",
       "      <td>0.585859</td>\n",
       "    </tr>\n",
       "    <tr>\n",
       "      <th>7</th>\n",
       "      <td>CHUCK LIDDELL</td>\n",
       "      <td>0.441558</td>\n",
       "    </tr>\n",
       "    <tr>\n",
       "      <th>8</th>\n",
       "      <td>MICHAEL BISPING</td>\n",
       "      <td>0.555556</td>\n",
       "    </tr>\n",
       "    <tr>\n",
       "      <th>9</th>\n",
       "      <td>ANDERSON SILVA</td>\n",
       "      <td>0.673469</td>\n",
       "    </tr>\n",
       "    <tr>\n",
       "      <th>10</th>\n",
       "      <td>DONALD CERRONE</td>\n",
       "      <td>0.636364</td>\n",
       "    </tr>\n",
       "    <tr>\n",
       "      <th>11</th>\n",
       "      <td>DANIEL CORMIER</td>\n",
       "      <td>0.662500</td>\n",
       "    </tr>\n",
       "    <tr>\n",
       "      <th>12</th>\n",
       "      <td>BROCK LESNAR</td>\n",
       "      <td>0.532609</td>\n",
       "    </tr>\n",
       "    <tr>\n",
       "      <th>13</th>\n",
       "      <td>DAN HENDERSON</td>\n",
       "      <td>0.541667</td>\n",
       "    </tr>\n",
       "    <tr>\n",
       "      <th>14</th>\n",
       "      <td>ANDREW ARLOVSKI</td>\n",
       "      <td>0.456790</td>\n",
       "    </tr>\n",
       "    <tr>\n",
       "      <th>15</th>\n",
       "      <td>NATE DIAZ</td>\n",
       "      <td>0.488889</td>\n",
       "    </tr>\n",
       "  </tbody>\n",
       "</table>\n",
       "</div>"
      ],
      "text/plain": [
       "            fighters  strike_ratio\n",
       "0     CONOR MCGREGOR      0.649123\n",
       "1      GEORGE PIERRE      0.702381\n",
       "2          MARK HUNT      0.698925\n",
       "3   ALISTAIR OVEREEM      0.709402\n",
       "4      VITOR BELFORT      0.513158\n",
       "5       RASHAD EVANS      0.673267\n",
       "6          JON JONES      0.585859\n",
       "7      CHUCK LIDDELL      0.441558\n",
       "8    MICHAEL BISPING      0.555556\n",
       "9     ANDERSON SILVA      0.673469\n",
       "10    DONALD CERRONE      0.636364\n",
       "11    DANIEL CORMIER      0.662500\n",
       "12      BROCK LESNAR      0.532609\n",
       "13     DAN HENDERSON      0.541667\n",
       "14   ANDREW ARLOVSKI      0.456790\n",
       "15         NATE DIAZ      0.488889"
      ]
     },
     "execution_count": 20,
     "metadata": {},
     "output_type": "execute_result"
    }
   ],
   "source": [
    "strike_ratio_fighters = fighter_data[['fighters','strike_ratio']]\n",
    "strike_ratio_fighters"
   ]
  },
  {
   "cell_type": "markdown",
   "id": "2784721c",
   "metadata": {},
   "source": [
    "## Ans. The total average strike ratio of all fighters is around 0.6 which means on an average every fighter's strikes land 60% of the time. And for individual fighters the strike ratio is mentioned as above."
   ]
  },
  {
   "cell_type": "markdown",
   "id": "18f41ebb",
   "metadata": {},
   "source": [
    "# "
   ]
  },
  {
   "cell_type": "markdown",
   "id": "efa46765",
   "metadata": {},
   "source": [
    "## 4. Which physical factor matters the most in a fight? (height/weight/reach)?"
   ]
  },
  {
   "cell_type": "code",
   "execution_count": 21,
   "id": "02155af7",
   "metadata": {},
   "outputs": [],
   "source": [
    "physical_aspect_fighters = fighter_data[['fighters','height_cms','reach_cms','weight_kgs']]"
   ]
  },
  {
   "cell_type": "code",
   "execution_count": 22,
   "id": "1294e6fa",
   "metadata": {},
   "outputs": [],
   "source": [
    "# adding a new column weight_lbs for an accurate calculation\n",
    "physical_aspect_fighters['weight_lbs'] = physical_aspect_fighters['weight_kgs']*2.205"
   ]
  },
  {
   "cell_type": "code",
   "execution_count": 23,
   "id": "d07c7368",
   "metadata": {},
   "outputs": [],
   "source": [
    "win_percentage = extract_fighter_data('B_win_percentage','R_win_percentage')"
   ]
  },
  {
   "cell_type": "code",
   "execution_count": 24,
   "id": "b0b1e834",
   "metadata": {},
   "outputs": [
    {
     "data": {
      "text/html": [
       "<div>\n",
       "<style scoped>\n",
       "    .dataframe tbody tr th:only-of-type {\n",
       "        vertical-align: middle;\n",
       "    }\n",
       "\n",
       "    .dataframe tbody tr th {\n",
       "        vertical-align: top;\n",
       "    }\n",
       "\n",
       "    .dataframe thead th {\n",
       "        text-align: right;\n",
       "    }\n",
       "</style>\n",
       "<table border=\"1\" class=\"dataframe\">\n",
       "  <thead>\n",
       "    <tr style=\"text-align: right;\">\n",
       "      <th></th>\n",
       "      <th>fighters</th>\n",
       "      <th>height_cms</th>\n",
       "      <th>reach_cms</th>\n",
       "      <th>weight_kgs</th>\n",
       "      <th>weight_lbs</th>\n",
       "      <th>win_percentage</th>\n",
       "    </tr>\n",
       "  </thead>\n",
       "  <tbody>\n",
       "    <tr>\n",
       "      <th>0</th>\n",
       "      <td>CONOR MCGREGOR</td>\n",
       "      <td>172.72</td>\n",
       "      <td>180.34</td>\n",
       "      <td>67</td>\n",
       "      <td>147.735</td>\n",
       "      <td>74</td>\n",
       "    </tr>\n",
       "    <tr>\n",
       "      <th>1</th>\n",
       "      <td>GEORGE PIERRE</td>\n",
       "      <td>177.80</td>\n",
       "      <td>182.88</td>\n",
       "      <td>69</td>\n",
       "      <td>152.145</td>\n",
       "      <td>42</td>\n",
       "    </tr>\n",
       "    <tr>\n",
       "      <th>2</th>\n",
       "      <td>MARK HUNT</td>\n",
       "      <td>170.18</td>\n",
       "      <td>177.80</td>\n",
       "      <td>66</td>\n",
       "      <td>145.530</td>\n",
       "      <td>40</td>\n",
       "    </tr>\n",
       "    <tr>\n",
       "      <th>3</th>\n",
       "      <td>ALISTAIR OVEREEM</td>\n",
       "      <td>170.18</td>\n",
       "      <td>172.72</td>\n",
       "      <td>66</td>\n",
       "      <td>145.530</td>\n",
       "      <td>65</td>\n",
       "    </tr>\n",
       "    <tr>\n",
       "      <th>4</th>\n",
       "      <td>VITOR BELFORT</td>\n",
       "      <td>172.72</td>\n",
       "      <td>182.88</td>\n",
       "      <td>67</td>\n",
       "      <td>147.735</td>\n",
       "      <td>30</td>\n",
       "    </tr>\n",
       "    <tr>\n",
       "      <th>5</th>\n",
       "      <td>RASHAD EVANS</td>\n",
       "      <td>175.26</td>\n",
       "      <td>177.80</td>\n",
       "      <td>67</td>\n",
       "      <td>147.735</td>\n",
       "      <td>69</td>\n",
       "    </tr>\n",
       "    <tr>\n",
       "      <th>6</th>\n",
       "      <td>JON JONES</td>\n",
       "      <td>177.80</td>\n",
       "      <td>180.34</td>\n",
       "      <td>69</td>\n",
       "      <td>152.145</td>\n",
       "      <td>78</td>\n",
       "    </tr>\n",
       "    <tr>\n",
       "      <th>7</th>\n",
       "      <td>CHUCK LIDDELL</td>\n",
       "      <td>175.26</td>\n",
       "      <td>170.18</td>\n",
       "      <td>68</td>\n",
       "      <td>149.940</td>\n",
       "      <td>45</td>\n",
       "    </tr>\n",
       "    <tr>\n",
       "      <th>8</th>\n",
       "      <td>MICHAEL BISPING</td>\n",
       "      <td>175.26</td>\n",
       "      <td>172.72</td>\n",
       "      <td>66</td>\n",
       "      <td>145.530</td>\n",
       "      <td>26</td>\n",
       "    </tr>\n",
       "    <tr>\n",
       "      <th>9</th>\n",
       "      <td>ANDERSON SILVA</td>\n",
       "      <td>170.18</td>\n",
       "      <td>182.88</td>\n",
       "      <td>66</td>\n",
       "      <td>145.530</td>\n",
       "      <td>58</td>\n",
       "    </tr>\n",
       "    <tr>\n",
       "      <th>10</th>\n",
       "      <td>DONALD CERRONE</td>\n",
       "      <td>172.72</td>\n",
       "      <td>185.42</td>\n",
       "      <td>67</td>\n",
       "      <td>147.735</td>\n",
       "      <td>60</td>\n",
       "    </tr>\n",
       "    <tr>\n",
       "      <th>11</th>\n",
       "      <td>DANIEL CORMIER</td>\n",
       "      <td>175.26</td>\n",
       "      <td>187.96</td>\n",
       "      <td>67</td>\n",
       "      <td>147.735</td>\n",
       "      <td>35</td>\n",
       "    </tr>\n",
       "    <tr>\n",
       "      <th>12</th>\n",
       "      <td>BROCK LESNAR</td>\n",
       "      <td>177.80</td>\n",
       "      <td>182.88</td>\n",
       "      <td>68</td>\n",
       "      <td>149.940</td>\n",
       "      <td>70</td>\n",
       "    </tr>\n",
       "    <tr>\n",
       "      <th>13</th>\n",
       "      <td>DAN HENDERSON</td>\n",
       "      <td>172.72</td>\n",
       "      <td>175.26</td>\n",
       "      <td>66</td>\n",
       "      <td>145.530</td>\n",
       "      <td>31</td>\n",
       "    </tr>\n",
       "    <tr>\n",
       "      <th>14</th>\n",
       "      <td>ANDREW ARLOVSKI</td>\n",
       "      <td>175.26</td>\n",
       "      <td>182.88</td>\n",
       "      <td>67</td>\n",
       "      <td>147.735</td>\n",
       "      <td>22</td>\n",
       "    </tr>\n",
       "    <tr>\n",
       "      <th>15</th>\n",
       "      <td>NATE DIAZ</td>\n",
       "      <td>177.26</td>\n",
       "      <td>177.80</td>\n",
       "      <td>69</td>\n",
       "      <td>152.145</td>\n",
       "      <td>55</td>\n",
       "    </tr>\n",
       "  </tbody>\n",
       "</table>\n",
       "</div>"
      ],
      "text/plain": [
       "            fighters  height_cms  reach_cms  weight_kgs  weight_lbs  \\\n",
       "0     CONOR MCGREGOR      172.72     180.34          67     147.735   \n",
       "1      GEORGE PIERRE      177.80     182.88          69     152.145   \n",
       "2          MARK HUNT      170.18     177.80          66     145.530   \n",
       "3   ALISTAIR OVEREEM      170.18     172.72          66     145.530   \n",
       "4      VITOR BELFORT      172.72     182.88          67     147.735   \n",
       "5       RASHAD EVANS      175.26     177.80          67     147.735   \n",
       "6          JON JONES      177.80     180.34          69     152.145   \n",
       "7      CHUCK LIDDELL      175.26     170.18          68     149.940   \n",
       "8    MICHAEL BISPING      175.26     172.72          66     145.530   \n",
       "9     ANDERSON SILVA      170.18     182.88          66     145.530   \n",
       "10    DONALD CERRONE      172.72     185.42          67     147.735   \n",
       "11    DANIEL CORMIER      175.26     187.96          67     147.735   \n",
       "12      BROCK LESNAR      177.80     182.88          68     149.940   \n",
       "13     DAN HENDERSON      172.72     175.26          66     145.530   \n",
       "14   ANDREW ARLOVSKI      175.26     182.88          67     147.735   \n",
       "15         NATE DIAZ      177.26     177.80          69     152.145   \n",
       "\n",
       "    win_percentage  \n",
       "0               74  \n",
       "1               42  \n",
       "2               40  \n",
       "3               65  \n",
       "4               30  \n",
       "5               69  \n",
       "6               78  \n",
       "7               45  \n",
       "8               26  \n",
       "9               58  \n",
       "10              60  \n",
       "11              35  \n",
       "12              70  \n",
       "13              31  \n",
       "14              22  \n",
       "15              55  "
      ]
     },
     "execution_count": 24,
     "metadata": {},
     "output_type": "execute_result"
    }
   ],
   "source": [
    "physical_aspect_fighters['win_percentage'] = win_percentage\n",
    "physical_aspect_fighters"
   ]
  },
  {
   "cell_type": "code",
   "execution_count": 25,
   "id": "86a5d2fc",
   "metadata": {},
   "outputs": [],
   "source": [
    "physical_corr = physical_aspect_fighters[['height_cms','reach_cms','weight_lbs','win_percentage']].corr()"
   ]
  },
  {
   "cell_type": "code",
   "execution_count": 26,
   "id": "a24d0443",
   "metadata": {},
   "outputs": [
    {
     "data": {
      "image/png": "[encoded data removed]",
      "text/plain": [
       "<Figure size 720x576 with 2 Axes>"
      ]
     },
     "metadata": {
      "needs_background": "light"
     },
     "output_type": "display_data"
    },
    {
     "data": {
      "text/plain": [
       "height_cms        0.077655\n",
       "reach_cms         0.033356\n",
       "weight_lbs        0.310720\n",
       "win_percentage    1.000000\n",
       "Name: win_percentage, dtype: float64"
      ]
     },
     "execution_count": 26,
     "metadata": {},
     "output_type": "execute_result"
    }
   ],
   "source": [
    "plt.figure(figsize=(10,8))\n",
    "sns.heatmap(physical_corr,annot=True,cmap='coolwarm')\n",
    "plt.show()\n",
    "physical_corr['win_percentage']"
   ]
  },
  {
   "cell_type": "markdown",
   "id": "660c5664",
   "metadata": {},
   "source": [
    "## Ans. As we can see from the above heatmap, the win_percentage has a much better correlation with weight rather than height or reach of a fighter (almost 10x better than reach & 5x better than height). Thus, we can say that weight of a fighter matters more than height and reach in a fight."
   ]
  },
  {
   "cell_type": "markdown",
   "id": "3281a35b",
   "metadata": {},
   "source": [
    "# "
   ]
  },
  {
   "cell_type": "markdown",
   "id": "0a8560b4",
   "metadata": {},
   "source": [
    "## 5. What is the average weight of all the fighters? According to that what can we say about the weight category of this tournament?"
   ]
  },
  {
   "cell_type": "code",
   "execution_count": 27,
   "id": "62fecb2d",
   "metadata": {},
   "outputs": [
    {
     "data": {
      "text/html": [
       "<div>\n",
       "<style scoped>\n",
       "    .dataframe tbody tr th:only-of-type {\n",
       "        vertical-align: middle;\n",
       "    }\n",
       "\n",
       "    .dataframe tbody tr th {\n",
       "        vertical-align: top;\n",
       "    }\n",
       "\n",
       "    .dataframe thead th {\n",
       "        text-align: right;\n",
       "    }\n",
       "</style>\n",
       "<table border=\"1\" class=\"dataframe\">\n",
       "  <thead>\n",
       "    <tr style=\"text-align: right;\">\n",
       "      <th></th>\n",
       "      <th>fighters</th>\n",
       "      <th>height_cms</th>\n",
       "      <th>reach_cms</th>\n",
       "      <th>weight_kgs</th>\n",
       "      <th>weight_lbs</th>\n",
       "      <th>win_percentage</th>\n",
       "    </tr>\n",
       "  </thead>\n",
       "  <tbody>\n",
       "    <tr>\n",
       "      <th>0</th>\n",
       "      <td>CONOR MCGREGOR</td>\n",
       "      <td>172.72</td>\n",
       "      <td>180.34</td>\n",
       "      <td>67</td>\n",
       "      <td>147.735</td>\n",
       "      <td>74</td>\n",
       "    </tr>\n",
       "    <tr>\n",
       "      <th>1</th>\n",
       "      <td>GEORGE PIERRE</td>\n",
       "      <td>177.80</td>\n",
       "      <td>182.88</td>\n",
       "      <td>69</td>\n",
       "      <td>152.145</td>\n",
       "      <td>42</td>\n",
       "    </tr>\n",
       "    <tr>\n",
       "      <th>2</th>\n",
       "      <td>MARK HUNT</td>\n",
       "      <td>170.18</td>\n",
       "      <td>177.80</td>\n",
       "      <td>66</td>\n",
       "      <td>145.530</td>\n",
       "      <td>40</td>\n",
       "    </tr>\n",
       "    <tr>\n",
       "      <th>3</th>\n",
       "      <td>ALISTAIR OVEREEM</td>\n",
       "      <td>170.18</td>\n",
       "      <td>172.72</td>\n",
       "      <td>66</td>\n",
       "      <td>145.530</td>\n",
       "      <td>65</td>\n",
       "    </tr>\n",
       "    <tr>\n",
       "      <th>4</th>\n",
       "      <td>VITOR BELFORT</td>\n",
       "      <td>172.72</td>\n",
       "      <td>182.88</td>\n",
       "      <td>67</td>\n",
       "      <td>147.735</td>\n",
       "      <td>30</td>\n",
       "    </tr>\n",
       "    <tr>\n",
       "      <th>5</th>\n",
       "      <td>RASHAD EVANS</td>\n",
       "      <td>175.26</td>\n",
       "      <td>177.80</td>\n",
       "      <td>67</td>\n",
       "      <td>147.735</td>\n",
       "      <td>69</td>\n",
       "    </tr>\n",
       "    <tr>\n",
       "      <th>6</th>\n",
       "      <td>JON JONES</td>\n",
       "      <td>177.80</td>\n",
       "      <td>180.34</td>\n",
       "      <td>69</td>\n",
       "      <td>152.145</td>\n",
       "      <td>78</td>\n",
       "    </tr>\n",
       "    <tr>\n",
       "      <th>7</th>\n",
       "      <td>CHUCK LIDDELL</td>\n",
       "      <td>175.26</td>\n",
       "      <td>170.18</td>\n",
       "      <td>68</td>\n",
       "      <td>149.940</td>\n",
       "      <td>45</td>\n",
       "    </tr>\n",
       "    <tr>\n",
       "      <th>8</th>\n",
       "      <td>MICHAEL BISPING</td>\n",
       "      <td>175.26</td>\n",
       "      <td>172.72</td>\n",
       "      <td>66</td>\n",
       "      <td>145.530</td>\n",
       "      <td>26</td>\n",
       "    </tr>\n",
       "    <tr>\n",
       "      <th>9</th>\n",
       "      <td>ANDERSON SILVA</td>\n",
       "      <td>170.18</td>\n",
       "      <td>182.88</td>\n",
       "      <td>66</td>\n",
       "      <td>145.530</td>\n",
       "      <td>58</td>\n",
       "    </tr>\n",
       "    <tr>\n",
       "      <th>10</th>\n",
       "      <td>DONALD CERRONE</td>\n",
       "      <td>172.72</td>\n",
       "      <td>185.42</td>\n",
       "      <td>67</td>\n",
       "      <td>147.735</td>\n",
       "      <td>60</td>\n",
       "    </tr>\n",
       "    <tr>\n",
       "      <th>11</th>\n",
       "      <td>DANIEL CORMIER</td>\n",
       "      <td>175.26</td>\n",
       "      <td>187.96</td>\n",
       "      <td>67</td>\n",
       "      <td>147.735</td>\n",
       "      <td>35</td>\n",
       "    </tr>\n",
       "    <tr>\n",
       "      <th>12</th>\n",
       "      <td>BROCK LESNAR</td>\n",
       "      <td>177.80</td>\n",
       "      <td>182.88</td>\n",
       "      <td>68</td>\n",
       "      <td>149.940</td>\n",
       "      <td>70</td>\n",
       "    </tr>\n",
       "    <tr>\n",
       "      <th>13</th>\n",
       "      <td>DAN HENDERSON</td>\n",
       "      <td>172.72</td>\n",
       "      <td>175.26</td>\n",
       "      <td>66</td>\n",
       "      <td>145.530</td>\n",
       "      <td>31</td>\n",
       "    </tr>\n",
       "    <tr>\n",
       "      <th>14</th>\n",
       "      <td>ANDREW ARLOVSKI</td>\n",
       "      <td>175.26</td>\n",
       "      <td>182.88</td>\n",
       "      <td>67</td>\n",
       "      <td>147.735</td>\n",
       "      <td>22</td>\n",
       "    </tr>\n",
       "    <tr>\n",
       "      <th>15</th>\n",
       "      <td>NATE DIAZ</td>\n",
       "      <td>177.26</td>\n",
       "      <td>177.80</td>\n",
       "      <td>69</td>\n",
       "      <td>152.145</td>\n",
       "      <td>55</td>\n",
       "    </tr>\n",
       "  </tbody>\n",
       "</table>\n",
       "</div>"
      ],
      "text/plain": [
       "            fighters  height_cms  reach_cms  weight_kgs  weight_lbs  \\\n",
       "0     CONOR MCGREGOR      172.72     180.34          67     147.735   \n",
       "1      GEORGE PIERRE      177.80     182.88          69     152.145   \n",
       "2          MARK HUNT      170.18     177.80          66     145.530   \n",
       "3   ALISTAIR OVEREEM      170.18     172.72          66     145.530   \n",
       "4      VITOR BELFORT      172.72     182.88          67     147.735   \n",
       "5       RASHAD EVANS      175.26     177.80          67     147.735   \n",
       "6          JON JONES      177.80     180.34          69     152.145   \n",
       "7      CHUCK LIDDELL      175.26     170.18          68     149.940   \n",
       "8    MICHAEL BISPING      175.26     172.72          66     145.530   \n",
       "9     ANDERSON SILVA      170.18     182.88          66     145.530   \n",
       "10    DONALD CERRONE      172.72     185.42          67     147.735   \n",
       "11    DANIEL CORMIER      175.26     187.96          67     147.735   \n",
       "12      BROCK LESNAR      177.80     182.88          68     149.940   \n",
       "13     DAN HENDERSON      172.72     175.26          66     145.530   \n",
       "14   ANDREW ARLOVSKI      175.26     182.88          67     147.735   \n",
       "15         NATE DIAZ      177.26     177.80          69     152.145   \n",
       "\n",
       "    win_percentage  \n",
       "0               74  \n",
       "1               42  \n",
       "2               40  \n",
       "3               65  \n",
       "4               30  \n",
       "5               69  \n",
       "6               78  \n",
       "7               45  \n",
       "8               26  \n",
       "9               58  \n",
       "10              60  \n",
       "11              35  \n",
       "12              70  \n",
       "13              31  \n",
       "14              22  \n",
       "15              55  "
      ]
     },
     "execution_count": 27,
     "metadata": {},
     "output_type": "execute_result"
    }
   ],
   "source": [
    "physical_aspect_fighters"
   ]
  },
  {
   "cell_type": "code",
   "execution_count": 28,
   "id": "2ba7e81f",
   "metadata": {},
   "outputs": [
    {
     "data": {
      "text/plain": [
       "67.1875"
      ]
     },
     "execution_count": 28,
     "metadata": {},
     "output_type": "execute_result"
    }
   ],
   "source": [
    "avg_weight_fighters = physical_aspect_fighters['weight_kgs'].mean()\n",
    "avg_weight_fighters"
   ]
  },
  {
   "cell_type": "code",
   "execution_count": 29,
   "id": "6daa978e",
   "metadata": {},
   "outputs": [],
   "source": [
    "for fighter in physical_aspect_fighters['weight_kgs']:\n",
    "    if fighter < 66:\n",
    "        print(fighter)\n",
    "    elif fighter > 70:\n",
    "        print(fighter)"
   ]
  },
  {
   "cell_type": "markdown",
   "id": "4653212f",
   "metadata": {},
   "source": [
    "## Ans. The average weight of fighters is 67.18. Also we checked that no fighter is below 66 kgs and above 70 kgs. Hence according to weight division of UFC, we can say that all fighters belong to 'lightweight' category (66kgs to 70kgs). "
   ]
  },
  {
   "cell_type": "markdown",
   "id": "9f2c9ecc",
   "metadata": {},
   "source": [
    "# "
   ]
  },
  {
   "cell_type": "markdown",
   "id": "2c5843d2",
   "metadata": {},
   "source": [
    "## 6. Which fighting stance acquired the most victories?"
   ]
  },
  {
   "cell_type": "code",
   "execution_count": 30,
   "id": "b97a9407",
   "metadata": {},
   "outputs": [],
   "source": [
    "# Blue win --> 0\n",
    "# Red win --> 1"
   ]
  },
  {
   "cell_type": "code",
   "execution_count": 31,
   "id": "deb187bd",
   "metadata": {},
   "outputs": [],
   "source": [
    "# Orthodox (Right dominant) --> 0\n",
    "# Southpaw (Left dominant) --> 1\n",
    "# Switch (Switches between right and left) --> 2"
   ]
  },
  {
   "cell_type": "code",
   "execution_count": 32,
   "id": "1d1468cf",
   "metadata": {},
   "outputs": [],
   "source": [
    "B_stance_wins = pd.DataFrame(ufc_data.loc[ufc_data['winner'] == 0, 'B_stance'])\n",
    "R_stance_wins = pd.DataFrame(ufc_data.loc[ufc_data['winner'] == 1, 'R_stance'])\n",
    "B_stance_wins.rename(columns = {'B_stance':'stance'},inplace=True)\n",
    "R_stance_wins.rename(columns = {'R_stance':'stance'},inplace=True)"
   ]
  },
  {
   "cell_type": "code",
   "execution_count": 33,
   "id": "4dcb41e1",
   "metadata": {},
   "outputs": [],
   "source": [
    "stance_wins = pd.concat([B_stance_wins,R_stance_wins])"
   ]
  },
  {
   "cell_type": "code",
   "execution_count": 34,
   "id": "9734fa80",
   "metadata": {},
   "outputs": [
    {
     "data": {
      "text/html": [
       "<div>\n",
       "<style scoped>\n",
       "    .dataframe tbody tr th:only-of-type {\n",
       "        vertical-align: middle;\n",
       "    }\n",
       "\n",
       "    .dataframe tbody tr th {\n",
       "        vertical-align: top;\n",
       "    }\n",
       "\n",
       "    .dataframe thead th {\n",
       "        text-align: right;\n",
       "    }\n",
       "</style>\n",
       "<table border=\"1\" class=\"dataframe\">\n",
       "  <thead>\n",
       "    <tr style=\"text-align: right;\">\n",
       "      <th></th>\n",
       "      <th>stance</th>\n",
       "    </tr>\n",
       "  </thead>\n",
       "  <tbody>\n",
       "    <tr>\n",
       "      <th>0</th>\n",
       "      <td>0</td>\n",
       "    </tr>\n",
       "    <tr>\n",
       "      <th>3</th>\n",
       "      <td>0</td>\n",
       "    </tr>\n",
       "    <tr>\n",
       "      <th>5</th>\n",
       "      <td>1</td>\n",
       "    </tr>\n",
       "    <tr>\n",
       "      <th>6</th>\n",
       "      <td>2</td>\n",
       "    </tr>\n",
       "    <tr>\n",
       "      <th>8</th>\n",
       "      <td>0</td>\n",
       "    </tr>\n",
       "    <tr>\n",
       "      <th>9</th>\n",
       "      <td>2</td>\n",
       "    </tr>\n",
       "    <tr>\n",
       "      <th>10</th>\n",
       "      <td>0</td>\n",
       "    </tr>\n",
       "    <tr>\n",
       "      <th>11</th>\n",
       "      <td>2</td>\n",
       "    </tr>\n",
       "    <tr>\n",
       "      <th>12</th>\n",
       "      <td>0</td>\n",
       "    </tr>\n",
       "    <tr>\n",
       "      <th>1</th>\n",
       "      <td>0</td>\n",
       "    </tr>\n",
       "    <tr>\n",
       "      <th>2</th>\n",
       "      <td>2</td>\n",
       "    </tr>\n",
       "    <tr>\n",
       "      <th>4</th>\n",
       "      <td>0</td>\n",
       "    </tr>\n",
       "    <tr>\n",
       "      <th>7</th>\n",
       "      <td>2</td>\n",
       "    </tr>\n",
       "    <tr>\n",
       "      <th>13</th>\n",
       "      <td>2</td>\n",
       "    </tr>\n",
       "    <tr>\n",
       "      <th>14</th>\n",
       "      <td>2</td>\n",
       "    </tr>\n",
       "  </tbody>\n",
       "</table>\n",
       "</div>"
      ],
      "text/plain": [
       "    stance\n",
       "0        0\n",
       "3        0\n",
       "5        1\n",
       "6        2\n",
       "8        0\n",
       "9        2\n",
       "10       0\n",
       "11       2\n",
       "12       0\n",
       "1        0\n",
       "2        2\n",
       "4        0\n",
       "7        2\n",
       "13       2\n",
       "14       2"
      ]
     },
     "execution_count": 34,
     "metadata": {},
     "output_type": "execute_result"
    }
   ],
   "source": [
    "stance_wins"
   ]
  },
  {
   "cell_type": "code",
   "execution_count": 35,
   "id": "3bb407db",
   "metadata": {},
   "outputs": [
    {
     "data": {
      "text/plain": [
       "stance\n",
       "0    7\n",
       "1    1\n",
       "2    7\n",
       "Name: stance, dtype: int64"
      ]
     },
     "execution_count": 35,
     "metadata": {},
     "output_type": "execute_result"
    }
   ],
   "source": [
    "stance_wins.groupby(['stance'])['stance'].count()"
   ]
  },
  {
   "cell_type": "markdown",
   "id": "3783acac",
   "metadata": {},
   "source": [
    "## Ans. Orthodox and Switch stance got 7 victories but Southpaw stance got only 1 victory. Thus, Orthodox and Switch stances have better chances of winning."
   ]
  },
  {
   "cell_type": "markdown",
   "id": "112a54bb",
   "metadata": {},
   "source": [
    "# "
   ]
  },
  {
   "cell_type": "markdown",
   "id": "039d268d",
   "metadata": {},
   "source": [
    "## 7. What does the column 'B_avg_KDS' and 'R_avg_KDS' mean? Are they an important factor for a fighter's victory?"
   ]
  },
  {
   "cell_type": "code",
   "execution_count": 36,
   "id": "425a5fcc",
   "metadata": {},
   "outputs": [],
   "source": [
    "avg_kds = extract_fighter_data('B_avg_KDS','R_avg_KDS')\n",
    "win_percentage = extract_fighter_data('B_win_percentage','R_win_percentage')"
   ]
  },
  {
   "cell_type": "code",
   "execution_count": 37,
   "id": "47394772",
   "metadata": {},
   "outputs": [
    {
     "data": {
      "text/html": [
       "<div>\n",
       "<style scoped>\n",
       "    .dataframe tbody tr th:only-of-type {\n",
       "        vertical-align: middle;\n",
       "    }\n",
       "\n",
       "    .dataframe tbody tr th {\n",
       "        vertical-align: top;\n",
       "    }\n",
       "\n",
       "    .dataframe thead th {\n",
       "        text-align: right;\n",
       "    }\n",
       "</style>\n",
       "<table border=\"1\" class=\"dataframe\">\n",
       "  <thead>\n",
       "    <tr style=\"text-align: right;\">\n",
       "      <th></th>\n",
       "      <th>avg_kds</th>\n",
       "      <th>win_percentage</th>\n",
       "    </tr>\n",
       "  </thead>\n",
       "  <tbody>\n",
       "    <tr>\n",
       "      <th>0</th>\n",
       "      <td>3.01</td>\n",
       "      <td>74</td>\n",
       "    </tr>\n",
       "    <tr>\n",
       "      <th>1</th>\n",
       "      <td>1.20</td>\n",
       "      <td>42</td>\n",
       "    </tr>\n",
       "    <tr>\n",
       "      <th>2</th>\n",
       "      <td>0.40</td>\n",
       "      <td>40</td>\n",
       "    </tr>\n",
       "    <tr>\n",
       "      <th>3</th>\n",
       "      <td>2.04</td>\n",
       "      <td>65</td>\n",
       "    </tr>\n",
       "    <tr>\n",
       "      <th>4</th>\n",
       "      <td>1.01</td>\n",
       "      <td>30</td>\n",
       "    </tr>\n",
       "    <tr>\n",
       "      <th>5</th>\n",
       "      <td>1.70</td>\n",
       "      <td>69</td>\n",
       "    </tr>\n",
       "    <tr>\n",
       "      <th>6</th>\n",
       "      <td>3.50</td>\n",
       "      <td>78</td>\n",
       "    </tr>\n",
       "    <tr>\n",
       "      <th>7</th>\n",
       "      <td>1.80</td>\n",
       "      <td>45</td>\n",
       "    </tr>\n",
       "    <tr>\n",
       "      <th>8</th>\n",
       "      <td>0.50</td>\n",
       "      <td>26</td>\n",
       "    </tr>\n",
       "    <tr>\n",
       "      <th>9</th>\n",
       "      <td>1.80</td>\n",
       "      <td>58</td>\n",
       "    </tr>\n",
       "    <tr>\n",
       "      <th>10</th>\n",
       "      <td>2.31</td>\n",
       "      <td>60</td>\n",
       "    </tr>\n",
       "    <tr>\n",
       "      <th>11</th>\n",
       "      <td>1.33</td>\n",
       "      <td>35</td>\n",
       "    </tr>\n",
       "    <tr>\n",
       "      <th>12</th>\n",
       "      <td>3.30</td>\n",
       "      <td>70</td>\n",
       "    </tr>\n",
       "    <tr>\n",
       "      <th>13</th>\n",
       "      <td>0.70</td>\n",
       "      <td>31</td>\n",
       "    </tr>\n",
       "    <tr>\n",
       "      <th>14</th>\n",
       "      <td>1.14</td>\n",
       "      <td>22</td>\n",
       "    </tr>\n",
       "    <tr>\n",
       "      <th>15</th>\n",
       "      <td>2.31</td>\n",
       "      <td>55</td>\n",
       "    </tr>\n",
       "  </tbody>\n",
       "</table>\n",
       "</div>"
      ],
      "text/plain": [
       "    avg_kds  win_percentage\n",
       "0      3.01              74\n",
       "1      1.20              42\n",
       "2      0.40              40\n",
       "3      2.04              65\n",
       "4      1.01              30\n",
       "5      1.70              69\n",
       "6      3.50              78\n",
       "7      1.80              45\n",
       "8      0.50              26\n",
       "9      1.80              58\n",
       "10     2.31              60\n",
       "11     1.33              35\n",
       "12     3.30              70\n",
       "13     0.70              31\n",
       "14     1.14              22\n",
       "15     2.31              55"
      ]
     },
     "execution_count": 37,
     "metadata": {},
     "output_type": "execute_result"
    }
   ],
   "source": [
    "kd_data = {'avg_kds':avg_kds,'win_percentage':win_percentage}\n",
    "kds_win = pd.DataFrame(kd_data)\n",
    "kds_win"
   ]
  },
  {
   "cell_type": "code",
   "execution_count": 38,
   "id": "98e438e8",
   "metadata": {},
   "outputs": [
    {
     "data": {
      "text/html": [
       "<div>\n",
       "<style scoped>\n",
       "    .dataframe tbody tr th:only-of-type {\n",
       "        vertical-align: middle;\n",
       "    }\n",
       "\n",
       "    .dataframe tbody tr th {\n",
       "        vertical-align: top;\n",
       "    }\n",
       "\n",
       "    .dataframe thead th {\n",
       "        text-align: right;\n",
       "    }\n",
       "</style>\n",
       "<table border=\"1\" class=\"dataframe\">\n",
       "  <thead>\n",
       "    <tr style=\"text-align: right;\">\n",
       "      <th></th>\n",
       "      <th>avg_kds</th>\n",
       "      <th>win_percentage</th>\n",
       "    </tr>\n",
       "  </thead>\n",
       "  <tbody>\n",
       "    <tr>\n",
       "      <th>avg_kds</th>\n",
       "      <td>1.000000</td>\n",
       "      <td>0.867295</td>\n",
       "    </tr>\n",
       "    <tr>\n",
       "      <th>win_percentage</th>\n",
       "      <td>0.867295</td>\n",
       "      <td>1.000000</td>\n",
       "    </tr>\n",
       "  </tbody>\n",
       "</table>\n",
       "</div>"
      ],
      "text/plain": [
       "                 avg_kds  win_percentage\n",
       "avg_kds         1.000000        0.867295\n",
       "win_percentage  0.867295        1.000000"
      ]
     },
     "execution_count": 38,
     "metadata": {},
     "output_type": "execute_result"
    }
   ],
   "source": [
    "kds_win.corr()"
   ]
  },
  {
   "cell_type": "markdown",
   "id": "d87ebafa",
   "metadata": {},
   "source": [
    "## Ans. The columns 'avg_KDS' indicate the average KNOCKDOWNS (when the fighter hits the opponent and opponent falls down but also gets up to fight again) a fighter gets in a fight. As we can see this feature highly correlates with a fighter's chances of victory."
   ]
  },
  {
   "cell_type": "markdown",
   "id": "25ba8398",
   "metadata": {},
   "source": [
    "# "
   ]
  },
  {
   "cell_type": "markdown",
   "id": "ab1b1197",
   "metadata": {},
   "source": [
    "## 8. What are the winning factors in a fight? (Define independent features that are significant for training a model)"
   ]
  },
  {
   "cell_type": "code",
   "execution_count": 39,
   "id": "e4ccaf4a",
   "metadata": {},
   "outputs": [],
   "source": [
    "ufc_data_corr = ufc_data.corr()"
   ]
  },
  {
   "cell_type": "code",
   "execution_count": 40,
   "id": "3530cee5",
   "metadata": {},
   "outputs": [],
   "source": [
    "ufc_data_corr_win = ufc_data_corr[['B_win_percentage','R_win_percentage']]"
   ]
  },
  {
   "cell_type": "code",
   "execution_count": 41,
   "id": "3f6f094e",
   "metadata": {},
   "outputs": [
    {
     "data": {
      "image/png": "[encoded data removed]",
      "text/plain": [
       "<Figure size 936x864 with 2 Axes>"
      ]
     },
     "metadata": {
      "needs_background": "light"
     },
     "output_type": "display_data"
    }
   ],
   "source": [
    "plt.figure(figsize=(13,12))\n",
    "sns.heatmap(ufc_data_corr_win,cmap='coolwarm',annot=True)\n",
    "plt.show()"
   ]
  },
  {
   "cell_type": "code",
   "execution_count": 42,
   "id": "52bbd5ad",
   "metadata": {},
   "outputs": [],
   "source": [
    "ufc_data_corr_B_win = ufc_data_corr['B_win_percentage']"
   ]
  },
  {
   "cell_type": "code",
   "execution_count": 43,
   "id": "9bdbb43e",
   "metadata": {},
   "outputs": [
    {
     "data": {
      "text/plain": [
       "B_height_cms             False\n",
       "B_reach_cms              False\n",
       "B_weight_kgs             False\n",
       "B_stance                 False\n",
       "B_total_fights            True\n",
       "B_wins                    True\n",
       "B_losses                 False\n",
       "B_draws                  False\n",
       "B_current_win_streak     False\n",
       "B_current_form           False\n",
       "B_strikes_attempted       True\n",
       "B_strikes_landed         False\n",
       "B_strikes_landed_head    False\n",
       "B_strikes_landed_body    False\n",
       "B_strikes_landed_leg     False\n",
       "B_avg_KDS                False\n",
       "B_win_by_KO               True\n",
       "B_win_by_submission      False\n",
       "B_win_by_decision        False\n",
       "R_height_cms             False\n",
       "R_reach_cms              False\n",
       "R_weight_kgs             False\n",
       "R_stance                 False\n",
       "R_total_fights           False\n",
       "R_wins                   False\n",
       "R_losses                  True\n",
       "R_draws                  False\n",
       "R_current_win_streak     False\n",
       "R_current_form            True\n",
       "R_strikes_attempted      False\n",
       "R_strikes_landed         False\n",
       "R_strikes_landed_head    False\n",
       "R_strikes_landed_body    False\n",
       "R_strikes_landed_leg     False\n",
       "R_avg_KDS                False\n",
       "R_win_by_KO              False\n",
       "R_win_by_submission      False\n",
       "R_win_by_decision        False\n",
       "B_win_percentage          True\n",
       "R_win_percentage         False\n",
       "winner                   False\n",
       "B_strike_ratio           False\n",
       "R_strike_ratio           False\n",
       "Name: B_win_percentage, dtype: bool"
      ]
     },
     "execution_count": 43,
     "metadata": {},
     "output_type": "execute_result"
    }
   ],
   "source": [
    "ufc_data_corr_B_win > 0.4"
   ]
  },
  {
   "cell_type": "code",
   "execution_count": 44,
   "id": "23ab47c1",
   "metadata": {},
   "outputs": [
    {
     "data": {
      "text/plain": [
       "B_height_cms             False\n",
       "B_reach_cms              False\n",
       "B_weight_kgs             False\n",
       "B_stance                 False\n",
       "B_total_fights           False\n",
       "B_wins                   False\n",
       "B_losses                 False\n",
       "B_draws                  False\n",
       "B_current_win_streak     False\n",
       "B_current_form            True\n",
       "B_strikes_attempted      False\n",
       "B_strikes_landed         False\n",
       "B_strikes_landed_head    False\n",
       "B_strikes_landed_body    False\n",
       "B_strikes_landed_leg     False\n",
       "B_avg_KDS                False\n",
       "B_win_by_KO              False\n",
       "B_win_by_submission      False\n",
       "B_win_by_decision        False\n",
       "R_height_cms             False\n",
       "R_reach_cms              False\n",
       "R_weight_kgs              True\n",
       "R_stance                 False\n",
       "R_total_fights            True\n",
       "R_wins                    True\n",
       "R_losses                 False\n",
       "R_draws                  False\n",
       "R_current_win_streak      True\n",
       "R_current_form           False\n",
       "R_strikes_attempted       True\n",
       "R_strikes_landed          True\n",
       "R_strikes_landed_head     True\n",
       "R_strikes_landed_body     True\n",
       "R_strikes_landed_leg     False\n",
       "R_avg_KDS                 True\n",
       "R_win_by_KO               True\n",
       "R_win_by_submission      False\n",
       "R_win_by_decision         True\n",
       "B_win_percentage         False\n",
       "R_win_percentage          True\n",
       "winner                    True\n",
       "B_strike_ratio           False\n",
       "R_strike_ratio           False\n",
       "Name: B_win_percentage, dtype: bool"
      ]
     },
     "execution_count": 44,
     "metadata": {},
     "output_type": "execute_result"
    }
   ],
   "source": [
    "ufc_data_corr_B_win < -0.4"
   ]
  },
  {
   "cell_type": "code",
   "execution_count": 125,
   "id": "854ec491",
   "metadata": {},
   "outputs": [],
   "source": [
    "independent_features = ['B_total_fights','B_wins','B_current_form','R_weight_kgs','B_strikes_attempted','B_win_by_KO','R_total_fights','R_wins','R_losses','R_current_win_streak','R_current_form','R_strikes_attempted','R_strikes_landed','R_strikes_landed_head','R_strikes_landed_body','R_avg_KDS','R_win_by_KO']\n"
   ]
  },
  {
   "cell_type": "code",
   "execution_count": 126,
   "id": "d8619aa8",
   "metadata": {},
   "outputs": [
    {
     "data": {
      "text/plain": [
       "17"
      ]
     },
     "execution_count": 126,
     "metadata": {},
     "output_type": "execute_result"
    }
   ],
   "source": [
    "len(independent_features)"
   ]
  },
  {
   "cell_type": "markdown",
   "id": "7d70a202",
   "metadata": {},
   "source": [
    "## Ans. We have taken consideration of features which gives correlation of 0.4 (either positively or negatively) with B_win_percentage. So, 17 columns will be processed and used as independent variables to train the regression model."
   ]
  },
  {
   "cell_type": "markdown",
   "id": "1fc62a3e",
   "metadata": {},
   "source": [
    "# "
   ]
  },
  {
   "cell_type": "markdown",
   "id": "67726e14",
   "metadata": {},
   "source": [
    "# Building Multiple Linear Regression from scratch"
   ]
  },
  {
   "cell_type": "code",
   "execution_count": 127,
   "id": "c4af8d52",
   "metadata": {},
   "outputs": [],
   "source": [
    "# seperating the data\n",
    "\n",
    "X = ufc_data[independent_features]\n",
    "y = ufc_data['B_win_percentage']"
   ]
  },
  {
   "cell_type": "code",
   "execution_count": 128,
   "id": "51425c12",
   "metadata": {},
   "outputs": [],
   "source": [
    "# splitting the data\n",
    "\n",
    "X_train, X_test, y_train, y_test = train_test_split(X,y,test_size=0.1,random_state=42)"
   ]
  },
  {
   "cell_type": "code",
   "execution_count": 3,
   "id": "60af23a7",
   "metadata": {},
   "outputs": [],
   "source": [
    "\"\"\"\n",
    "Steps to build the model class:\n",
    "\n",
    "Step-1: define attributes in __init__ function (number of iterations , learning rate)\n",
    "\n",
    "Step-2: define the fit method: \n",
    "        - Get the no. of samples and no. of features \n",
    "        - Initialize coefficients and intercept to zero\n",
    "        - Calculate the predicted values by using current values of coefficients and intercept\n",
    "        - Update the coefficient and intercept by subtracting product of the gradients and learning rate\n",
    "        - This is an iterative process and will go on till the range of number of iterations\n",
    "        \n",
    "Step-3: define the predict method:\n",
    "        - Prediction on new dataset\n",
    "        - Perform dot product between input X and the learned coefficient \n",
    "        - Then further add the result with the learned intercept\n",
    "\"\"\"\n",
    "pass"
   ]
  },
  {
   "cell_type": "code",
   "execution_count": 130,
   "id": "68f52ec3",
   "metadata": {},
   "outputs": [],
   "source": [
    "# building the model class \n",
    "\n",
    "class MultiLinearRegression:\n",
    "    def __init__(self, n_iters, learning_rate):\n",
    "        self.learning_rate = learning_rate # controls step size during gradient descent\n",
    "        self.n_iters = n_iters # no. of iterations/steps for gradient descent\n",
    "        self.coeff = None # coefficient\n",
    "        self.inter = None # intercept\n",
    "\n",
    "    # training the model\n",
    "    def fit(self, X, y):\n",
    "        n_samples, n_features = X.shape \n",
    "\n",
    "        self.coeff = np.zeros(n_features) # initializing coefficients to 0\n",
    "        self.inter = 0 # initializing intercept to 0\n",
    "\n",
    "        for _ in range(self.n_iters):\n",
    "\n",
    "            y_pred = np.dot(X, self.coeff) + self.inter # calculates the predicted values using current m and c\n",
    "\n",
    "            # calculate gradient/derivatives for coefficient\n",
    "            dm = (1 / n_samples) * np.dot(X.T, (y_pred - y)) \n",
    "            # calculate gradient/derivative for intercept\n",
    "            dc = (1 / n_samples) * np.sum(y_pred - y) \n",
    "            \n",
    "            # update coefficient using gradient descent by subtracting product of gradients and learning rate\n",
    "            self.coeff = self.coeff - self.learning_rate * dm \n",
    "            # update intercept using gradient descent by subtracting product of gradients and learning rate\n",
    "            self.inter = self.inter - self.learning_rate * dc \n",
    "    \n",
    "    # model prediction\n",
    "    def predict(self, X):\n",
    "        # dot product between input X and learned coefficient and then adding by learned intercept\n",
    "        return np.dot(X, self.coeff) + self.inter"
   ]
  },
  {
   "cell_type": "code",
   "execution_count": 131,
   "id": "cd59a714",
   "metadata": {},
   "outputs": [],
   "source": [
    "regression = MultiLinearRegression(n_iters=7,learning_rate=0.00001)"
   ]
  },
  {
   "cell_type": "code",
   "execution_count": 132,
   "id": "35b3c98d",
   "metadata": {},
   "outputs": [],
   "source": [
    "# training the model\n",
    "# performing linear regression to predict the output of 'B_win_precentage'\n",
    "\n",
    "regression.fit(X_train,y_train)"
   ]
  },
  {
   "cell_type": "code",
   "execution_count": 133,
   "id": "5354a858",
   "metadata": {},
   "outputs": [],
   "source": [
    "# prediction on test data\n",
    "\n",
    "y_pred = regression.predict(X_test)"
   ]
  },
  {
   "cell_type": "code",
   "execution_count": 134,
   "id": "f13bc0f0",
   "metadata": {},
   "outputs": [
    {
     "data": {
      "text/plain": [
       "array([48.92580549, 47.03823236])"
      ]
     },
     "execution_count": 134,
     "metadata": {},
     "output_type": "execute_result"
    }
   ],
   "source": [
    "# predicted values\n",
    "\n",
    "y_pred"
   ]
  },
  {
   "cell_type": "code",
   "execution_count": 135,
   "id": "1ef80de6",
   "metadata": {
    "scrolled": true
   },
   "outputs": [
    {
     "data": {
      "text/plain": [
       "9     54\n",
       "11    42\n",
       "Name: B_win_percentage, dtype: int64"
      ]
     },
     "execution_count": 135,
     "metadata": {},
     "output_type": "execute_result"
    }
   ],
   "source": [
    "# actual values\n",
    "\n",
    "y_test"
   ]
  },
  {
   "cell_type": "code",
   "execution_count": 123,
   "id": "5657d37a",
   "metadata": {},
   "outputs": [
    {
     "data": {
      "text/plain": [
       "0.2898424853998731"
      ]
     },
     "execution_count": 123,
     "metadata": {},
     "output_type": "execute_result"
    }
   ],
   "source": [
    "# R2 score\n",
    "\n",
    "scratch_R2 = r2_score(y_test,y_pred)\n",
    "scratch_R2"
   ]
  },
  {
   "cell_type": "code",
   "execution_count": 124,
   "id": "2a2d3beb",
   "metadata": {},
   "outputs": [
    {
     "data": {
      "text/plain": [
       "5.056250639120313"
      ]
     },
     "execution_count": 124,
     "metadata": {},
     "output_type": "execute_result"
    }
   ],
   "source": [
    "# RMSE score\n",
    "\n",
    "scratch_RMSE = np.sqrt(mean_squared_error(y_test,y_pred))\n",
    "scratch_RMSE"
   ]
  },
  {
   "cell_type": "markdown",
   "id": "0b921acb",
   "metadata": {},
   "source": [
    "## Comparing the model with sklearn LinearRegression() model"
   ]
  },
  {
   "cell_type": "code",
   "execution_count": 302,
   "id": "d8407ce8",
   "metadata": {},
   "outputs": [],
   "source": [
    "sk_model = LinearRegression()"
   ]
  },
  {
   "cell_type": "code",
   "execution_count": 303,
   "id": "ff69bb16",
   "metadata": {},
   "outputs": [
    {
     "data": {
      "text/plain": [
       "LinearRegression()"
      ]
     },
     "execution_count": 303,
     "metadata": {},
     "output_type": "execute_result"
    }
   ],
   "source": [
    "sk_model.fit(X_train,y_train)"
   ]
  },
  {
   "cell_type": "code",
   "execution_count": 304,
   "id": "ff7c52db",
   "metadata": {},
   "outputs": [],
   "source": [
    "sk_y_pred = sk_model.predict(X_test)"
   ]
  },
  {
   "cell_type": "code",
   "execution_count": 305,
   "id": "da9e30f1",
   "metadata": {},
   "outputs": [
    {
     "data": {
      "text/plain": [
       "array([57.19993246, 65.1938524 ])"
      ]
     },
     "execution_count": 305,
     "metadata": {},
     "output_type": "execute_result"
    }
   ],
   "source": [
    "sk_y_pred"
   ]
  },
  {
   "cell_type": "code",
   "execution_count": 306,
   "id": "c2ed0e93",
   "metadata": {},
   "outputs": [
    {
     "data": {
      "text/plain": [
       "9     54\n",
       "11    42\n",
       "Name: B_win_percentage, dtype: int64"
      ]
     },
     "execution_count": 306,
     "metadata": {},
     "output_type": "execute_result"
    }
   ],
   "source": [
    "y_test"
   ]
  },
  {
   "cell_type": "code",
   "execution_count": 307,
   "id": "905122f2",
   "metadata": {},
   "outputs": [
    {
     "data": {
      "text/plain": [
       "-6.6138105131903835"
      ]
     },
     "execution_count": 307,
     "metadata": {},
     "output_type": "execute_result"
    }
   ],
   "source": [
    "sk_R2 = r2_score(y_test,sk_y_pred)\n",
    "sk_R2"
   ]
  },
  {
   "cell_type": "code",
   "execution_count": 308,
   "id": "35607891",
   "metadata": {},
   "outputs": [
    {
     "data": {
      "text/plain": [
       "16.55588048020563"
      ]
     },
     "execution_count": 308,
     "metadata": {},
     "output_type": "execute_result"
    }
   ],
   "source": [
    "sk_RMSE = np.sqrt(mean_squared_error(y_test,sk_y_pred))\n",
    "sk_RMSE"
   ]
  },
  {
   "cell_type": "code",
   "execution_count": null,
   "id": "38f89e78",
   "metadata": {},
   "outputs": [],
   "source": []
  }
 ],
 "metadata": {
  "kernelspec": {
   "display_name": "Python 3 (ipykernel)",
   "language": "python",
   "name": "python3"
  },
  "language_info": {
   "codemirror_mode": {
    "name": "ipython",
    "version": 3
   },
   "file_extension": ".py",
   "mimetype": "text/x-python",
   "name": "python",
   "nbconvert_exporter": "python",
   "pygments_lexer": "ipython3",
   "version": "3.9.12"
  }
 },
 "nbformat": 4,
 "nbformat_minor": 5
}
